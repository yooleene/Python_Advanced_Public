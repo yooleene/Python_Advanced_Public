{
 "cells": [
  {
   "cell_type": "markdown",
   "id": "2b1e065f",
   "metadata": {},
   "source": [
    "M2. 파일 처리 File Handling\n",
    "==="
   ]
  },
  {
   "cell_type": "markdown",
   "id": "ae4d3cf3",
   "metadata": {},
   "source": [
    "## 1. 파일 읽기와 쓰기"
   ]
  },
  {
   "cell_type": "markdown",
   "id": "d0c8535c",
   "metadata": {},
   "source": [
    "> 파일 읽기"
   ]
  },
  {
   "cell_type": "code",
   "execution_count": null,
   "id": "85361dc3",
   "metadata": {},
   "outputs": [],
   "source": []
  },
  {
   "cell_type": "markdown",
   "id": "3f09fbb9",
   "metadata": {},
   "source": [
    "> `open()` 함수\n",
    "\n",
    "<pre>\n",
    "<code>\n",
    "        [open(file, mode='r', buffering=-1, encoding=None, errors=None, newline=None, closefd=True, opener=None)]\n",
    "</code>\n",
    "</pre>"
   ]
  },
  {
   "cell_type": "markdown",
   "id": "ca23c734",
   "metadata": {},
   "source": [
    "- file 과 연결된 파일 객체를 반환(만약 파일을 열 수 없으면 OSError가 발생)\n",
    "- file 은 열려는 파일의 경로 이름(현재 작업 폴더의 절대경로 또는 상대경로)과 파일 이름을 합한 문자열\n",
    "- mode 는 선택 사항으로 열려는 파일의 모드를 지정\n",
    "- mode 의 종류\n",
    "    - `'r'` : 읽기용으로 파일을 열기\n",
    "        - 기본값이 텍스트 읽기 모드이기 때문에 설정하지 않으면 `'rt'` 모드로 파일 열기\n",
    "    - `'w'` : 쓰기용으로 파일을 열기\n",
    "        - 만약 파일이 이미 존재하면 기존의 데이터를 삭제하고 새로 작성하므로 매우 조심해서 사용\n",
    "    - `'x'` : `'w'`와 같지만 파일이 이미 존재하면 오류가 발생\n",
    "    - `'a'` : `'w'`와 같지만 파일이 이미 존재하면 파일의 마지막에 내용을 추가\n",
    "    - `'t'` : 텍스트 모드로 파일을 열기\n",
    "        - 기본값이기 때문에 텍스트 모드로 파일을 열 때는 `'t'`를 생략해도 됨\n",
    "        - 텍스트 모드에서 encoding 을 지정하지 않으면 파이썬 개발 환경을 설치한 운영체제의 기본 인코딩이 적용\n",
    "    - `'b'` : 이진(binary) 모드로 파일을 열기\n",
    "        - 이진 모드로 파일을 열 때는 encoding 을 지정하지 않음\n",
    "        - `'w+b'` 모드로 파일을 열 때 파일이 존재하면 기존의 데이터를 삭제하고 새로 작성\n",
    "        - `'r+b'` 모드로 파일을 열 때는 기존의 데이터를 삭제하지 않고 열기\n",
    "    - `'+'` : 업데이트(읽기와 쓰기)용으로 파일을 열기<br><br>\n",
    "  \n",
    "- encoding : 파이썬이 지원하는 텍스트 인코딩의 이름을 정할 수 있음\n",
    "    - 텍스트 모드에서만 사용할 수 있음\n",
    "    - encoding 을 지정하지 않으면 파이썬 개발 환경을 설치한 운영체제의 기본 인코딩을 적용\n",
    "    - encoding 을 지정하면 파일을 열 때 지정한 인코딩으로 파일을 인코딩하거나 디코딩"
   ]
  },
  {
   "cell_type": "markdown",
   "id": "02082cf6",
   "metadata": {},
   "source": [
    "> 파일 인코딩\n",
    "\n",
    "디폴트 인코딩(default encoding)\n",
    "- Windows : ANSI(e.g., cp1252, cp949 등과 같은 윈도우 코드 페이지)\n",
    "    - 'latin-1'은 윈도우 코드 페이지와 대부분 호환 가능한 보편적인 인코딩 방식\n",
    "    - 'cp949'는 한글을 지원하는 인코딩 방식\n",
    "- macOS : Unicode\n",
    "    - 'utf-8'은 영어 외의 언어를 지원\n",
    "    - 'cp1252'('latin-1')는 라틴 알파벳(e.g., 영어)을 지원\n",
    "\n",
    "국제 표준은 Unicode\n",
    "- 최근에는 Unicode를 주된 인코딩 방식으로 사용하는 추세\n",
    "- 한글 인코딩을 위해서는 'utf-8' 사용을 권장"
   ]
  },
  {
   "cell_type": "markdown",
   "id": "b4d4aec7",
   "metadata": {},
   "source": [
    "> 파일 쓰기"
   ]
  },
  {
   "cell_type": "markdown",
   "id": "e9b151e1",
   "metadata": {},
   "source": [
    "- 쓰기 모드로 텍스트 파일 열기"
   ]
  },
  {
   "cell_type": "code",
   "execution_count": null,
   "id": "ae0d4511",
   "metadata": {},
   "outputs": [],
   "source": []
  },
  {
   "cell_type": "code",
   "execution_count": null,
   "id": "442b77c4",
   "metadata": {},
   "outputs": [],
   "source": []
  },
  {
   "cell_type": "code",
   "execution_count": null,
   "id": "7fb2a51a",
   "metadata": {},
   "outputs": [],
   "source": []
  },
  {
   "cell_type": "code",
   "execution_count": null,
   "id": "fb46fa92",
   "metadata": {},
   "outputs": [],
   "source": []
  },
  {
   "cell_type": "code",
   "execution_count": null,
   "id": "fd40c733",
   "metadata": {},
   "outputs": [],
   "source": []
  },
  {
   "cell_type": "code",
   "execution_count": null,
   "id": "fcc7de28",
   "metadata": {},
   "outputs": [],
   "source": []
  },
  {
   "cell_type": "code",
   "execution_count": null,
   "id": "94c6323f",
   "metadata": {},
   "outputs": [],
   "source": []
  },
  {
   "cell_type": "code",
   "execution_count": null,
   "id": "7b01a44b",
   "metadata": {},
   "outputs": [],
   "source": []
  },
  {
   "cell_type": "markdown",
   "id": "91197632",
   "metadata": {},
   "source": [
    "- 텍스트 파일 쓰기 "
   ]
  },
  {
   "cell_type": "code",
   "execution_count": null,
   "id": "8c05fa28",
   "metadata": {},
   "outputs": [],
   "source": []
  },
  {
   "cell_type": "code",
   "execution_count": null,
   "id": "e8a7f4b9",
   "metadata": {},
   "outputs": [],
   "source": []
  },
  {
   "cell_type": "code",
   "execution_count": null,
   "id": "290075f2",
   "metadata": {},
   "outputs": [],
   "source": []
  },
  {
   "cell_type": "code",
   "execution_count": null,
   "id": "ea2cf3eb",
   "metadata": {},
   "outputs": [],
   "source": []
  },
  {
   "cell_type": "markdown",
   "id": "afadaefe",
   "metadata": {},
   "source": [
    "- 내용 추가"
   ]
  },
  {
   "cell_type": "code",
   "execution_count": null,
   "id": "a404cc47",
   "metadata": {},
   "outputs": [],
   "source": []
  },
  {
   "cell_type": "code",
   "execution_count": null,
   "id": "39faf4f9",
   "metadata": {},
   "outputs": [],
   "source": []
  },
  {
   "cell_type": "code",
   "execution_count": null,
   "id": "6bd799e5",
   "metadata": {},
   "outputs": [],
   "source": []
  },
  {
   "cell_type": "code",
   "execution_count": null,
   "id": "082a3163",
   "metadata": {},
   "outputs": [],
   "source": [
    "        "
   ]
  },
  {
   "cell_type": "code",
   "execution_count": null,
   "id": "ebff08e3",
   "metadata": {},
   "outputs": [],
   "source": []
  },
  {
   "cell_type": "code",
   "execution_count": null,
   "id": "ec07db1c",
   "metadata": {},
   "outputs": [],
   "source": []
  },
  {
   "cell_type": "markdown",
   "id": "347cb14c",
   "metadata": {},
   "source": [
    "- 리스트의 객체를 파일에 쓰기"
   ]
  },
  {
   "cell_type": "code",
   "execution_count": null,
   "id": "a08fbbb3",
   "metadata": {},
   "outputs": [],
   "source": [
    "list = ['a', 'b', 'c', 'd', 'e', 'f']\n"
   ]
  },
  {
   "cell_type": "code",
   "execution_count": null,
   "id": "bf128f45",
   "metadata": {},
   "outputs": [],
   "source": []
  },
  {
   "cell_type": "markdown",
   "id": "b86c3521",
   "metadata": {},
   "source": [
    "## 2. 파일 읽기\n",
    "\n",
    "- 텍스트 파일을 읽기 모드로 열어서 파일의 내용을 읽을 때 사용하는 메소드\n",
    "  - `read()`\n",
    "  - `readline()`\n",
    "  - `readlines()`"
   ]
  },
  {
   "cell_type": "markdown",
   "id": "f0ad32c0",
   "metadata": {},
   "source": [
    "> `read()` 메소드\n",
    "\n",
    "- `read()` 메소드는 텍스트 파일의 모든 내용을 하나의 문자열로 반환\n",
    "- `read()` 메소드의 형식\n",
    "\n",
    "    `파일객체.read(size=-1)`\n",
    "\n",
    "- 텍스트 파일인 파일객체 에서 커서의 현재 위치부터 최대 `size` 크기의 문자를 읽은 후, 새줄바꿈(`\\n`)을 포함해서 읽어 들인 문자 모두를 문자열 하나로 반환\n",
    "- `size`의 값이 음수거나 지정하지 않으면 파일 끝(end-of-file, EOF)까지 읽어 들임\n",
    "- 파일을 읽을 때마다 `size`만큼 커서가 이동\n",
    "- 커서가 파일의 끝(EOF)에 있으면 빈 문자열(`''`)을 반환"
   ]
  },
  {
   "cell_type": "code",
   "execution_count": null,
   "id": "c2e31238",
   "metadata": {},
   "outputs": [],
   "source": []
  },
  {
   "cell_type": "code",
   "execution_count": null,
   "id": "182157d5",
   "metadata": {},
   "outputs": [],
   "source": []
  },
  {
   "cell_type": "code",
   "execution_count": null,
   "id": "2ac76b2a",
   "metadata": {},
   "outputs": [],
   "source": []
  },
  {
   "cell_type": "markdown",
   "id": "349ad77d",
   "metadata": {},
   "source": [
    "> `readline()` 메소드\n",
    "\n",
    "\n",
    "- `readline()` 메소드는 텍스트 파일에서 한 줄의 내용을 하나의 문자열로 반환\n",
    "- `readline()` 메소드의 형식\n",
    "\n",
    "    `파일객체.readline(size=-1)`\n",
    "\n",
    "- 파일객체 (텍스트 파일)에서 커서의 현재 위치부터 새줄바꿈(`\\n`)까지 또는 파일의 끝(EOF)까지 읽은 후, 새줄바꿈(`\\n`) 부호를 포함한 텍스트 한 줄을 문자열로 반환\n",
    "- 즉, 파일 한 줄의 내용을 문자열 하나로 반환하는 메소드\n",
    "- `size`의 값이 주어졌을 때는 최대 `size` 크기의 문자만 읽음 \n",
    "- 커서가 파일의 끝(EOF)에 있으면 빈 문자열(`''`)을 반환"
   ]
  },
  {
   "cell_type": "code",
   "execution_count": null,
   "id": "223c1f0d",
   "metadata": {},
   "outputs": [],
   "source": []
  },
  {
   "cell_type": "markdown",
   "id": "58f865e0",
   "metadata": {},
   "source": [
    "> `readlines()` 메소드\n",
    "\n",
    "- `readlines()` 메소드는 텍스트 파일의 내용을 한 줄 단위로 읽어서 리스트로 반환\n",
    "- `readlines()` 메소드의 형식\n",
    "\n",
    "    `파일객체.readlines(hint=-1)`\n",
    "\n",
    "- 파일객체 (텍스트 파일)에서 커서의 현재 위치부터 각 줄을 모두 읽은 후, 새줄 바꿈(`\\n`) 부호를 포함한 각 줄을 객체로 갖는 리스트를 반환\n",
    "- 즉, 리스트의 개별 객체는 새줄바꿈 부호까지 포함한 텍스트 한 줄의 문자열\n",
    "- `hint` 는 읽어 들인 줄의 개수를 제어할 때 사용(만약 지금까지 읽어 들인 모든 줄의 총 크기(문자)가 `hint` 를 초과하면 더 이상 줄을 읽지 않음)\n",
    "- 커서가 파일의 끝(EOF)에 있으면 빈 리스트(`[ ]`)를 반환"
   ]
  },
  {
   "cell_type": "code",
   "execution_count": null,
   "id": "acb46d9d",
   "metadata": {},
   "outputs": [],
   "source": []
  },
  {
   "cell_type": "markdown",
   "id": "4d19892b",
   "metadata": {},
   "source": [
    "## 3. 텍스트 파싱"
   ]
  },
  {
   "cell_type": "markdown",
   "id": "7cab4c61",
   "metadata": {},
   "source": [
    "> 문자열을 숫자형으로 변환"
   ]
  },
  {
   "cell_type": "markdown",
   "id": "ae6b1a57",
   "metadata": {},
   "source": [
    "- 파일의 각 행을 리스트의 객체로 담기"
   ]
  },
  {
   "cell_type": "code",
   "execution_count": null,
   "id": "fd5b9155",
   "metadata": {},
   "outputs": [],
   "source": [
    " "
   ]
  },
  {
   "cell_type": "markdown",
   "id": "57f7484c",
   "metadata": {},
   "source": [
    "- 문자열을 리스트로 변환하기"
   ]
  },
  {
   "cell_type": "code",
   "execution_count": null,
   "id": "509966fc",
   "metadata": {},
   "outputs": [],
   "source": []
  },
  {
   "cell_type": "markdown",
   "id": "26168c90",
   "metadata": {},
   "source": [
    "- 계산에 필요한 데이터를 숫자로 형변환하기"
   ]
  },
  {
   "cell_type": "code",
   "execution_count": null,
   "id": "3b64f1a0",
   "metadata": {},
   "outputs": [],
   "source": []
  },
  {
   "cell_type": "markdown",
   "id": "22215db0",
   "metadata": {},
   "source": [
    "> CSV 파일 읽기"
   ]
  },
  {
   "cell_type": "markdown",
   "id": "789c507e",
   "metadata": {},
   "source": [
    "- `open()` 함수로 CSV 파일 열기"
   ]
  },
  {
   "cell_type": "code",
   "execution_count": null,
   "id": "bed1f36f",
   "metadata": {},
   "outputs": [],
   "source": []
  },
  {
   "cell_type": "markdown",
   "id": "6f7f3052",
   "metadata": {},
   "source": [
    "- pandas로 CSV 파일 읽기"
   ]
  },
  {
   "cell_type": "code",
   "execution_count": null,
   "id": "40263b74",
   "metadata": {},
   "outputs": [],
   "source": []
  },
  {
   "cell_type": "markdown",
   "id": "5b14b85c",
   "metadata": {},
   "source": [
    "> PDF 파일 읽기"
   ]
  },
  {
   "cell_type": "code",
   "execution_count": null,
   "id": "50e28278",
   "metadata": {},
   "outputs": [],
   "source": []
  },
  {
   "cell_type": "markdown",
   "id": "29baa583",
   "metadata": {},
   "source": [
    "> PPTX 파일 읽기"
   ]
  },
  {
   "cell_type": "code",
   "execution_count": null,
   "id": "322663ce",
   "metadata": {},
   "outputs": [],
   "source": []
  }
 ],
 "metadata": {
  "kernelspec": {
   "display_name": "Python 3",
   "language": "python",
   "name": "python3"
  },
  "language_info": {
   "codemirror_mode": {
    "name": "ipython",
    "version": 3
   },
   "file_extension": ".py",
   "mimetype": "text/x-python",
   "name": "python",
   "nbconvert_exporter": "python",
   "pygments_lexer": "ipython3",
   "version": "3.9.10"
  }
 },
 "nbformat": 4,
 "nbformat_minor": 5
}
