{
 "cells": [
  {
   "cell_type": "markdown",
   "id": "c1015205",
   "metadata": {},
   "source": [
    "M1. 함수 function\n",
    "=="
   ]
  },
  {
   "cell_type": "markdown",
   "id": "536667d4",
   "metadata": {},
   "source": [
    "## 1. 함수의 개념"
   ]
  },
  {
   "cell_type": "markdown",
   "id": "48e56f97",
   "metadata": {},
   "source": [
    "> 함수(function) : 재사용이 가능한 일련의 명령문 묶음\n",
    "   - 특정 작업을 함수로 정의함으로써 언제든 불러와서 사용할 수 있게 해줌(코드의 재활용성)\n",
    "   - 프로시져(procedure), 메소드(method), 서브루틴(subroutine) 등의 이름으로 불리기도 함"
   ]
  },
  {
   "cell_type": "markdown",
   "id": "5b453c78",
   "metadata": {},
   "source": [
    "> 함수 호출(function call) : 함수를 불러와서 실행하는 것\n",
    "\n",
    "> 함수반환(function return) : 함수를 호출하면 인터프리터가 해당 함수 코드로 가서 명령어들을 실행하고 함수를 호출한 코드로 다시 돌아가는 것\n",
    "   - 함수 호출에는 '함수 이름'과 '전달인자(arguments)'가 필요함(전달인자는 필요 없을 수도 있음)\n",
    "   - 함수는 전달인자를 받아와서 특정한 작업을 실행한 후 결과값을 반환하고 종료하든지 결과값이 없는 작업을 실행한 후 호출한 코드로 실행 권한을 넘김"
   ]
  },
  {
   "cell_type": "code",
   "execution_count": null,
   "id": "bdc23745",
   "metadata": {},
   "outputs": [],
   "source": []
  },
  {
   "cell_type": "markdown",
   "id": "1dc48f3e",
   "metadata": {},
   "source": [
    "## 2. 함수 호출과 전달인자\n",
    "\n",
    "> 대부분의 파이썬 함수는 값을 전달인자로 받아서 작업을 수행\n",
    "\n",
    "> 전달인자(arguments)는 소괄호(**( )**) 안에 할당\n",
    "  - 어떤 전달인자는 선택 사항\n",
    "  - 어떤 전달인자는 반드시 값을 전달해야 하며 그렇지 않으면 오류가 발생"
   ]
  },
  {
   "cell_type": "markdown",
   "id": "a27b7525",
   "metadata": {},
   "source": [
    ">  필수 전달인자 한 개를 사용"
   ]
  },
  {
   "cell_type": "code",
   "execution_count": null,
   "id": "c0a10040",
   "metadata": {},
   "outputs": [],
   "source": []
  },
  {
   "cell_type": "markdown",
   "id": "5ce33e3e",
   "metadata": {},
   "source": [
    "> 전달인자 두 개를 사용"
   ]
  },
  {
   "cell_type": "code",
   "execution_count": null,
   "id": "4a3115b6",
   "metadata": {},
   "outputs": [],
   "source": []
  },
  {
   "cell_type": "markdown",
   "id": "2a258bfb",
   "metadata": {},
   "source": [
    "## 3.사용자 함수"
   ]
  },
  {
   "cell_type": "markdown",
   "id": "3b288e6b",
   "metadata": {},
   "source": [
    "> 사용자 함수(custom function) : 사용자가 직접 만든 함수\n",
    "\n",
    "<pre>\n",
    "<code>\n",
    "    def 함수이름([매개변수,...]):\n",
    "        함수-명령문\n",
    "        [return 객체]\n",
    "</code>\n",
    "</pre>\n",
    "\n",
    "- 함수이름은 유효한 식별자여야 함\n",
    "- 함수에 포함할 수 있는 ***매개변수***의 개수는 제한이 없음,\n",
    "- 즉, **0**개부터 ***n***개의 ***매개변수***를 선언할 수 있음, 따라서 ***매개변수***는 선택 사항\n",
    "- **return**문은 선택 사항\n",
    "    - ***함수-명령문*** 블록을 실행한 후 결과값을 ***객체***로 반환할 수도 있고, 하지 않을 수도 있음 \n",
    "    - 반환 값이 있으면 **return**문을 사용해 값을 반환 \n",
    "    - 결과값을 반환하지 않는 함수는 **None**을 반환, 따라서 반환 값이 없으면 **return**문을 생략 가능 "
   ]
  },
  {
   "cell_type": "markdown",
   "id": "2e7c9fd7",
   "metadata": {},
   "source": [
    "> 매개변수 vs. 전달인자\n",
    "- 매개변수(parameter) : 함수를 실행할 때 함수 내부에서 사용되는 식별자\n",
    "- 전달인자(argument) : 함수를 호출할 때 넣어주는 값"
   ]
  },
  {
   "cell_type": "code",
   "execution_count": null,
   "id": "56150afc",
   "metadata": {},
   "outputs": [],
   "source": []
  },
  {
   "cell_type": "markdown",
   "id": "2cb3247d",
   "metadata": {},
   "source": [
    "> 사용자 함수 만들기"
   ]
  },
  {
   "cell_type": "code",
   "execution_count": null,
   "id": "744efad0",
   "metadata": {},
   "outputs": [],
   "source": []
  },
  {
   "cell_type": "code",
   "execution_count": null,
   "id": "63cab94d",
   "metadata": {},
   "outputs": [],
   "source": []
  },
  {
   "cell_type": "code",
   "execution_count": null,
   "id": "93c2c213",
   "metadata": {},
   "outputs": [],
   "source": []
  },
  {
   "cell_type": "markdown",
   "id": "c4227f9f",
   "metadata": {},
   "source": [
    "## 4. 함수의 종류"
   ]
  },
  {
   "cell_type": "markdown",
   "id": "dfeb5f5f",
   "metadata": {},
   "source": [
    "> 전역 함수(global function) : 가장 흔히 사용하는 일반 함수로 같은 모듈, 즉 같은 파이썬 파일 안 어디서든 사용할 수 있는 함수"
   ]
  },
  {
   "cell_type": "markdown",
   "id": "fdc7a411",
   "metadata": {},
   "source": [
    "- 매개변수와 반환 값이 없는 함수"
   ]
  },
  {
   "cell_type": "code",
   "execution_count": null,
   "id": "a4fb0dbf",
   "metadata": {},
   "outputs": [],
   "source": []
  },
  {
   "cell_type": "code",
   "execution_count": null,
   "id": "b031f602",
   "metadata": {},
   "outputs": [],
   "source": []
  },
  {
   "cell_type": "markdown",
   "id": "6cdd3dd8",
   "metadata": {},
   "source": [
    "- 매개변수는 있지만 반환 값은 없는 함수"
   ]
  },
  {
   "cell_type": "code",
   "execution_count": null,
   "id": "acfc3a39",
   "metadata": {},
   "outputs": [],
   "source": []
  },
  {
   "cell_type": "code",
   "execution_count": null,
   "id": "fc8c36da",
   "metadata": {},
   "outputs": [],
   "source": []
  },
  {
   "cell_type": "markdown",
   "id": "ca319385",
   "metadata": {},
   "source": [
    "- 매개변수와 반환 값이 있는 함수"
   ]
  },
  {
   "cell_type": "code",
   "execution_count": null,
   "id": "1ed0e3bf",
   "metadata": {},
   "outputs": [],
   "source": []
  },
  {
   "cell_type": "code",
   "execution_count": null,
   "id": "b710abc2",
   "metadata": {},
   "outputs": [],
   "source": []
  },
  {
   "cell_type": "markdown",
   "id": "4b087abd",
   "metadata": {},
   "source": [
    "> 지역 함수(local function) : 어떤 함수 안에서 정의된 함수(내재 함수라고도 함)\n",
    "- 지역 함수를 정의한 해당 함수 안에서만 사용이 가능\n",
    "- 지역 함수를 정의한 해당 함수 외 다른 함수나 프로그램에서 호출하여 사용 불가능"
   ]
  },
  {
   "cell_type": "code",
   "execution_count": null,
   "id": "e0652f3d",
   "metadata": {},
   "outputs": [],
   "source": []
  },
  {
   "cell_type": "markdown",
   "id": "8ed8c749",
   "metadata": {},
   "source": [
    "- 전역함수를 호출"
   ]
  },
  {
   "cell_type": "code",
   "execution_count": null,
   "id": "2f15921d",
   "metadata": {},
   "outputs": [],
   "source": []
  },
  {
   "cell_type": "markdown",
   "id": "feed8e82",
   "metadata": {},
   "source": [
    "- 지역함수를 호출 : 에러 발생"
   ]
  },
  {
   "cell_type": "code",
   "execution_count": null,
   "id": "11e9849e",
   "metadata": {},
   "outputs": [],
   "source": []
  },
  {
   "cell_type": "markdown",
   "id": "8e4fdf29",
   "metadata": {},
   "source": [
    "> 메소드(method) : 클래스 내부에서 구현한 함수(해당 클래스와 함께 사용)"
   ]
  },
  {
   "cell_type": "code",
   "execution_count": null,
   "id": "be294002",
   "metadata": {},
   "outputs": [],
   "source": []
  },
  {
   "cell_type": "code",
   "execution_count": null,
   "id": "4d353a49",
   "metadata": {},
   "outputs": [],
   "source": []
  },
  {
   "cell_type": "markdown",
   "id": "0c4f7a2b",
   "metadata": {},
   "source": [
    "> 람다 함수(lambda function) : 함수를 사용하는 시점에 표현식 형태로 정의하여 바로 사용하는 함수\n",
    "\n",
    "<pre>\n",
    "<code>\n",
    "    lambda [매개변수]: 표현식\n",
    "</code>\n",
    "</pre>\n",
    "\n",
    "- 람다 함수는 함수 이름이 없기 때문에 익명 함수(anonymous function)라고도 함"
   ]
  },
  {
   "cell_type": "code",
   "execution_count": null,
   "id": "a507ba02",
   "metadata": {},
   "outputs": [],
   "source": []
  },
  {
   "cell_type": "code",
   "execution_count": null,
   "id": "734436ce",
   "metadata": {},
   "outputs": [],
   "source": []
  },
  {
   "cell_type": "markdown",
   "id": "82e3b0a0",
   "metadata": {},
   "source": [
    "- 람다 함수를 전달인자로 사용 :  **sorted()** 함수나 **list.sort()** 메소드 등에서 매개변수 ***key***의 전달인자로 사용되듯이 주로 함수의 전달인자로 사용"
   ]
  },
  {
   "cell_type": "code",
   "execution_count": null,
   "id": "b699514a",
   "metadata": {},
   "outputs": [],
   "source": [
    "pair = [(2, 'c'), (1, 'b'), (2, 'a'), (2, 'd'), (1, 'd')]\n"
   ]
  },
  {
   "cell_type": "code",
   "execution_count": null,
   "id": "321c3876",
   "metadata": {},
   "outputs": [],
   "source": []
  },
  {
   "cell_type": "code",
   "execution_count": null,
   "id": "a5bd6e64",
   "metadata": {},
   "outputs": [],
   "source": []
  },
  {
   "cell_type": "code",
   "execution_count": null,
   "id": "d7556066",
   "metadata": {},
   "outputs": [],
   "source": []
  },
  {
   "cell_type": "code",
   "execution_count": null,
   "id": "8fa49aea",
   "metadata": {},
   "outputs": [],
   "source": []
  },
  {
   "cell_type": "code",
   "execution_count": null,
   "id": "c5ee4266",
   "metadata": {},
   "outputs": [],
   "source": [
    "pair = [(2, 'c'), (1, 'b'), (2, 'a'), (2, 'd'), (1, 'D')]\n"
   ]
  }
 ],
 "metadata": {
  "kernelspec": {
   "display_name": "Python 3",
   "language": "python",
   "name": "python3"
  },
  "language_info": {
   "codemirror_mode": {
    "name": "ipython",
    "version": 3
   },
   "file_extension": ".py",
   "mimetype": "text/x-python",
   "name": "python",
   "nbconvert_exporter": "python",
   "pygments_lexer": "ipython3",
   "version": "3.9.10"
  }
 },
 "nbformat": 4,
 "nbformat_minor": 5
}
