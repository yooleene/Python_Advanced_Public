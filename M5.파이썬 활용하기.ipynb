{
 "cells": [
  {
   "cell_type": "markdown",
   "id": "417b7401",
   "metadata": {},
   "source": [
    "M5.파이썬 활용하기 Applications\n",
    "=="
   ]
  },
  {
   "cell_type": "markdown",
   "id": "72d8911e",
   "metadata": {},
   "source": [
    "## 1. 개인정보 샘플 생성하기"
   ]
  },
  {
   "cell_type": "code",
   "execution_count": null,
   "id": "5bd19367",
   "metadata": {},
   "outputs": [],
   "source": []
  },
  {
   "cell_type": "markdown",
   "id": "a4265a22",
   "metadata": {},
   "source": [
    "- 1000개의 샘플 데이터를 생성하여 엑셀 파일로 저장"
   ]
  },
  {
   "cell_type": "code",
   "execution_count": null,
   "id": "6d0ceac2",
   "metadata": {},
   "outputs": [],
   "source": []
  },
  {
   "cell_type": "markdown",
   "id": "34638d47",
   "metadata": {},
   "source": [
    "## 2. 파일 압축하기"
   ]
  },
  {
   "cell_type": "markdown",
   "id": "cabb12b8",
   "metadata": {},
   "source": [
    "- 압축하기 위한 샘플 파일 생성"
   ]
  },
  {
   "cell_type": "code",
   "execution_count": null,
   "id": "466bef5f",
   "metadata": {},
   "outputs": [],
   "source": []
  },
  {
   "cell_type": "markdown",
   "id": "f52a9770",
   "metadata": {},
   "source": [
    "- 샘플 파일 압축하기"
   ]
  },
  {
   "cell_type": "code",
   "execution_count": null,
   "id": "50cc792a",
   "metadata": {},
   "outputs": [],
   "source": []
  },
  {
   "cell_type": "markdown",
   "id": "0e60f9e7",
   "metadata": {},
   "source": [
    "- 암호 추가하여 합축하기"
   ]
  },
  {
   "cell_type": "code",
   "execution_count": null,
   "id": "ca9add53",
   "metadata": {},
   "outputs": [],
   "source": []
  },
  {
   "cell_type": "markdown",
   "id": "835c2cca",
   "metadata": {},
   "source": [
    "## 3. 압축 파일 비밀번호 해제하기"
   ]
  },
  {
   "cell_type": "code",
   "execution_count": null,
   "id": "8b9fb60f",
   "metadata": {},
   "outputs": [],
   "source": []
  },
  {
   "cell_type": "markdown",
   "id": "38617345",
   "metadata": {},
   "source": [
    "## 4. 패스워드 생성기"
   ]
  },
  {
   "cell_type": "code",
   "execution_count": null,
   "id": "dee70134",
   "metadata": {},
   "outputs": [],
   "source": []
  },
  {
   "cell_type": "markdown",
   "id": "58a5f939",
   "metadata": {},
   "source": [
    "## 5. 날짜 계산기"
   ]
  },
  {
   "cell_type": "code",
   "execution_count": null,
   "id": "4cf3c173",
   "metadata": {},
   "outputs": [],
   "source": []
  },
  {
   "cell_type": "markdown",
   "id": "2a7b0816",
   "metadata": {},
   "source": [
    "- 오늘까지 남은 날짜 계산하기"
   ]
  },
  {
   "cell_type": "code",
   "execution_count": null,
   "id": "b4ee4a3c",
   "metadata": {},
   "outputs": [],
   "source": []
  },
  {
   "cell_type": "markdown",
   "id": "d680f34a",
   "metadata": {},
   "source": [
    "## 6. 가상화폐 시세 조회"
   ]
  },
  {
   "cell_type": "code",
   "execution_count": null,
   "id": "b9e5a7ad",
   "metadata": {},
   "outputs": [],
   "source": []
  },
  {
   "cell_type": "markdown",
   "id": "d42eadd0",
   "metadata": {},
   "source": [
    "- json 데이터 파싱하기"
   ]
  },
  {
   "cell_type": "code",
   "execution_count": null,
   "id": "71f45a00",
   "metadata": {},
   "outputs": [],
   "source": []
  },
  {
   "cell_type": "markdown",
   "id": "3d86d272",
   "metadata": {},
   "source": [
    "- 데이터 확인하기"
   ]
  },
  {
   "cell_type": "code",
   "execution_count": null,
   "id": "edbb30b2",
   "metadata": {},
   "outputs": [],
   "source": []
  },
  {
   "cell_type": "markdown",
   "id": "a7ba943a",
   "metadata": {},
   "source": [
    "- 시각화"
   ]
  },
  {
   "cell_type": "code",
   "execution_count": null,
   "id": "7b907e07",
   "metadata": {},
   "outputs": [],
   "source": []
  },
  {
   "cell_type": "markdown",
   "id": "4cd89ae9",
   "metadata": {},
   "source": [
    "## 7. 백업 프로그램 "
   ]
  },
  {
   "cell_type": "code",
   "execution_count": null,
   "id": "9a8901c6",
   "metadata": {},
   "outputs": [],
   "source": []
  },
  {
   "cell_type": "markdown",
   "id": "3d42e91a",
   "metadata": {},
   "source": [
    "- GUI 백업 프로그램"
   ]
  },
  {
   "cell_type": "code",
   "execution_count": null,
   "id": "12d68e8a",
   "metadata": {},
   "outputs": [],
   "source": [
    "import os #내장 모듈\n",
    "from tkinter import * #내장 모듈, https://docs.python.org/ko/3.8/library/tkinter.html\n",
    "from tkinter import filedialog\n",
    "from distutils.dir_util import copy_tree #내장 모듈\n",
    "\n",
    "root = Tk()\n",
    "root.title('백업 프로그램')\n",
    "root.geometry('300x200') #가로x세로 크기\n",
    "\n",
    "source_dir = '' #원본 폴더 경로\n",
    "target_dir = '' #백업 폴더 경로\n",
    "\n",
    "def selectSourceDir():\n",
    "    global source_dir\n",
    "    source_dir = filedialog.askdirectory(parent=root, initialdir='/', title='원본 폴더를 선택하세요.')\n",
    "    if len(source_dir) > 0:\n",
    "        print('원본 폴더: ', source_dir)\n",
    "    else:\n",
    "        print('원본 폴더를 선택하지 않았습니다.')\n",
    "\n",
    "def selectTargetDir():\n",
    "    global target_dir\n",
    "    target_dir = filedialog.askdirectory(parent=root, initialdir='/', title='백업 폴더를 선택하세요.')\n",
    "    if len(target_dir) > 0:\n",
    "        print('백업 폴더: ', target_dir)\n",
    "    else:\n",
    "        print('백업 폴더를 선택하지 않았습니다.')\n",
    "\n",
    "def backup():\n",
    "    if len(source_dir) == 0 or len(target_dir) == 0:\n",
    "        print('원본 폴더와 백업 폴더를 선택하세요.')\n",
    "        return\n",
    "    if source_dir == target_dir:\n",
    "        print('원본 폴더와 백업 폴더를 다르게 선택하세요.')\n",
    "        return\n",
    "    if not os.path.exists(target_dir):\n",
    "        os.makedirs(target_dir) #대상 폴더가 없으면 생성\n",
    "    copy_tree(source_dir, target_dir) #원본 폴더의 모든 파일 및 폴더를 백업 폴더로 복사\n",
    "    print('원본 폴더의 모든 파일 및 폴더를 백업 폴더로 복사했습니다.')\n",
    "\n",
    "btn1 = Button(root, text='원본 폴더 선택', command=selectSourceDir)\n",
    "btn1.pack(pady=10)\n",
    "\n",
    "btn2 = Button(root, text='백업 폴더 선택', command=selectTargetDir)\n",
    "btn2.pack(pady=10)\n",
    "\n",
    "btn3 = Button(root, text='백업 시작', command=backup)\n",
    "btn3.pack(pady=10)\n",
    "\n",
    "root.mainloop() #mainloop()는 이벤트 메시지 루프로서 키보드나 마우스 혹은 화면 Redraw와 같은 다양한 이벤트로부터 오는 메시지를 받고 전달"
   ]
  }
 ],
 "metadata": {
  "kernelspec": {
   "display_name": "Python 3 (ipykernel)",
   "language": "python",
   "name": "python3"
  },
  "language_info": {
   "codemirror_mode": {
    "name": "ipython",
    "version": 3
   },
   "file_extension": ".py",
   "mimetype": "text/x-python",
   "name": "python",
   "nbconvert_exporter": "python",
   "pygments_lexer": "ipython3",
   "version": "3.9.10"
  }
 },
 "nbformat": 4,
 "nbformat_minor": 5
}
