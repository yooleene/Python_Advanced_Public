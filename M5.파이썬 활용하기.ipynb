{
 "cells": [
  {
   "cell_type": "markdown",
   "id": "417b7401",
   "metadata": {},
   "source": [
    "M5.파이썬 활용하기 Applications\n",
    "=="
   ]
  },
  {
   "cell_type": "markdown",
   "id": "72d8911e",
   "metadata": {},
   "source": [
    "> 개인정보 샘플 생성하기"
   ]
  },
  {
   "cell_type": "code",
   "execution_count": null,
   "id": "5bd19367",
   "metadata": {},
   "outputs": [],
   "source": []
  },
  {
   "cell_type": "markdown",
   "id": "a4265a22",
   "metadata": {},
   "source": [
    "- 1000개의 샘플 데이터를 생성하여 엑셀 파일로 저장"
   ]
  },
  {
   "cell_type": "code",
   "execution_count": null,
   "id": "6d0ceac2",
   "metadata": {},
   "outputs": [],
   "source": []
  },
  {
   "cell_type": "markdown",
   "id": "34638d47",
   "metadata": {},
   "source": [
    "> 파일 압축하기"
   ]
  },
  {
   "cell_type": "markdown",
   "id": "cabb12b8",
   "metadata": {},
   "source": [
    "- 압축하기 위한 샘플 파일 생성"
   ]
  },
  {
   "cell_type": "code",
   "execution_count": null,
   "id": "466bef5f",
   "metadata": {},
   "outputs": [],
   "source": []
  },
  {
   "cell_type": "markdown",
   "id": "f52a9770",
   "metadata": {},
   "source": [
    "- 샘플 파일 압축하기"
   ]
  },
  {
   "cell_type": "code",
   "execution_count": null,
   "id": "50cc792a",
   "metadata": {},
   "outputs": [],
   "source": []
  },
  {
   "cell_type": "markdown",
   "id": "0e60f9e7",
   "metadata": {},
   "source": [
    "- 암호 추가하여 합축하기"
   ]
  },
  {
   "cell_type": "code",
   "execution_count": null,
   "id": "ca9add53",
   "metadata": {},
   "outputs": [],
   "source": []
  },
  {
   "cell_type": "markdown",
   "id": "835c2cca",
   "metadata": {},
   "source": [
    "> 압축 파일 비밀번호 해제하기"
   ]
  },
  {
   "cell_type": "code",
   "execution_count": null,
   "id": "8b9fb60f",
   "metadata": {},
   "outputs": [],
   "source": []
  },
  {
   "cell_type": "markdown",
   "id": "38617345",
   "metadata": {},
   "source": [
    "> 패스워드 생성기"
   ]
  },
  {
   "cell_type": "code",
   "execution_count": null,
   "id": "dee70134",
   "metadata": {},
   "outputs": [],
   "source": []
  },
  {
   "cell_type": "markdown",
   "id": "58a5f939",
   "metadata": {},
   "source": [
    "> 날짜 계산기"
   ]
  },
  {
   "cell_type": "code",
   "execution_count": null,
   "id": "4cf3c173",
   "metadata": {},
   "outputs": [],
   "source": []
  },
  {
   "cell_type": "markdown",
   "id": "2a7b0816",
   "metadata": {},
   "source": [
    "- 오늘까지 남은 날짜 계산하기"
   ]
  },
  {
   "cell_type": "code",
   "execution_count": null,
   "id": "b4ee4a3c",
   "metadata": {},
   "outputs": [],
   "source": []
  },
  {
   "cell_type": "markdown",
   "id": "d680f34a",
   "metadata": {},
   "source": [
    "> 가상화폐 시세 조회"
   ]
  },
  {
   "cell_type": "markdown",
   "id": "284443a2",
   "metadata": {},
   "source": [
    "- 비트코인 시세 조회"
   ]
  },
  {
   "cell_type": "code",
   "execution_count": null,
   "id": "6d5617d7",
   "metadata": {},
   "outputs": [],
   "source": []
  },
  {
   "cell_type": "markdown",
   "id": "11a292b0",
   "metadata": {},
   "source": [
    "- 모든 가상화폐 시세 조회"
   ]
  },
  {
   "cell_type": "code",
   "execution_count": null,
   "id": "f4261499",
   "metadata": {},
   "outputs": [],
   "source": []
  },
  {
   "cell_type": "markdown",
   "id": "1bb6b7e1",
   "metadata": {},
   "source": [
    "- 비트코인 1년 그래프"
   ]
  },
  {
   "cell_type": "code",
   "execution_count": null,
   "id": "bbe978fb",
   "metadata": {},
   "outputs": [],
   "source": []
  },
  {
   "cell_type": "markdown",
   "id": "acb48a57",
   "metadata": {},
   "source": [
    "- 가상화폐 데이터를 획득하여 데이터베이스에 저장"
   ]
  },
  {
   "cell_type": "code",
   "execution_count": null,
   "id": "d66f5e42",
   "metadata": {},
   "outputs": [],
   "source": []
  },
  {
   "cell_type": "markdown",
   "id": "bf05cadc",
   "metadata": {},
   "source": [
    "- 1초마다 입력하기"
   ]
  },
  {
   "cell_type": "code",
   "execution_count": null,
   "id": "6a993c3c",
   "metadata": {},
   "outputs": [],
   "source": []
  },
  {
   "cell_type": "markdown",
   "id": "1ab35ef1",
   "metadata": {},
   "source": [
    "- 데이터베이스 값 읽기"
   ]
  },
  {
   "cell_type": "code",
   "execution_count": null,
   "id": "7b907e07",
   "metadata": {},
   "outputs": [],
   "source": []
  },
  {
   "cell_type": "markdown",
   "id": "4cd89ae9",
   "metadata": {},
   "source": [
    "> 백업 프로그램 "
   ]
  },
  {
   "cell_type": "code",
   "execution_count": null,
   "id": "9a8901c6",
   "metadata": {},
   "outputs": [],
   "source": []
  },
  {
   "cell_type": "markdown",
   "id": "3d42e91a",
   "metadata": {},
   "source": [
    "- GUI 백업 프로그램"
   ]
  },
  {
   "cell_type": "code",
   "execution_count": null,
   "id": "12d68e8a",
   "metadata": {},
   "outputs": [],
   "source": []
  }
 ],
 "metadata": {
  "kernelspec": {
   "display_name": "Python 3",
   "language": "python",
   "name": "python3"
  },
  "language_info": {
   "codemirror_mode": {
    "name": "ipython",
    "version": 3
   },
   "file_extension": ".py",
   "mimetype": "text/x-python",
   "name": "python",
   "nbconvert_exporter": "python",
   "pygments_lexer": "ipython3",
   "version": "3.9.10"
  }
 },
 "nbformat": 4,
 "nbformat_minor": 5
}
