{
 "cells": [
  {
   "cell_type": "markdown",
   "id": "c8753e17",
   "metadata": {},
   "source": [
    "M4.클래스와 객체 Classes and Objects\n",
    "=="
   ]
  },
  {
   "cell_type": "markdown",
   "id": "1f8887c2",
   "metadata": {},
   "source": [
    "## 1. 객체지향 프로그래밍 언어의 핵심 개념"
   ]
  },
  {
   "cell_type": "markdown",
   "id": "27cb1589",
   "metadata": {},
   "source": [
    "> 추상화(abstraction) : 객체의 공통적인 속성과 기능을 추출하여 정의하는 것(서울의 지하철 노선도는 서울의 지리를 추상화시켜서 보여주는 것)"
   ]
  },
  {
   "cell_type": "markdown",
   "id": "90b8e308",
   "metadata": {},
   "source": [
    "> 상속(Inheritance) : 기존의 클래스를 재활용하여 새로운 클래스를 작성하는 것\n",
    "  - 상속은 클래스 간 공유될 수 있는 속성과 기능들을 상위 클래스로 추상화 시켜 해당 상위 클래스로부터 확장된 여러 개의 하위 클래스들이 모두 상위 클래스의 속성과 기능들을 간편하게 사용"
   ]
  },
  {
   "cell_type": "markdown",
   "id": "21843466",
   "metadata": {},
   "source": [
    "> 캡슐화(encapsulation) : 클래스 안에 서로 연관있는 속성과 기능들을 하나의 캡슐(capsule)로 만들어 데이터를 외부로부터 보호하는 것\n",
    " - 캡슐화를 통해 내부에서 일어나는 작업 내용을 최소한만 보여주고, 외부에서 의도치 않게 변경하거나 손상하는 것을 방지 "
   ]
  },
  {
   "cell_type": "markdown",
   "id": "d397726c",
   "metadata": {},
   "source": [
    "> 다형성(polymorphism) : 어떤 객체의 속성이나 기능이 상황에 따라 여러 가지 형태를 가질 수 있는 성질\n",
    " - 서로 다른 클래스에 속해 있는 객체들이 같은 이름의 메소드를 사용하더라도 각기 다른 방식으로 행동할 수 있도록 해주는 것\n",
    " - 어떤 객체의 속성이나 기능이 그 맥락에 따라 다른 역할을 수행할수 있는 객체 지향의 특성을 의미\n",
    " - 예) 도형(Shape.draw())의 하위 클래스인 원(Circle.draw()), 삼각형(Triangle.draw()), 사각형(Rectangle.draw()) 등 "
   ]
  },
  {
   "cell_type": "markdown",
   "id": "acbd66ff",
   "metadata": {},
   "source": [
    "## 2. 클래스와 객체의 관계"
   ]
  },
  {
   "cell_type": "markdown",
   "id": "65f1a7e2",
   "metadata": {},
   "source": [
    "> 클래스(class) : 같은 종류의 집단에 속하는 객체(object)들의 속성(attribute)과 행동(behavior)을 정의"
   ]
  },
  {
   "cell_type": "markdown",
   "id": "823f0cdc",
   "metadata": {},
   "source": [
    "> 객체(object) : 클래스의 인스턴스(instance)\n",
    " - 객체는 자신 고유의 속성(attribute) 값을 가지고 있으며 클래스에서 정의한 행동(behavior)을 실행\n",
    " - 책상, 의자, 시계, 책, 논리, 사상, 개념, 공식 등 우리가 주변에서 볼 수 있는 모든 실재(實在)하는 대상\n",
    " - 하나의 개별적인 실체로 식별 가능한 물리적인 또는 개념적인 사물은 어떤 것이든 객체가 될 수 있음"
   ]
  },
  {
   "cell_type": "markdown",
   "id": "a43ec14d",
   "metadata": {},
   "source": [
    "> 속성과 메소드\n",
    "\n",
    "- 속성: 속성을 저장하는 변수(속성 변수라고도 함)\n",
    "- 메소드 : 속성을 다루는 함수"
   ]
  },
  {
   "cell_type": "markdown",
   "id": "58ba21ec",
   "metadata": {},
   "source": [
    "## 3. 클래스 정의와 사용법"
   ]
  },
  {
   "cell_type": "markdown",
   "id": "e97953cc",
   "metadata": {},
   "source": [
    "> 클래스와 객체 만들기\n",
    "- `class` 지정자와 클래스 이름 및 콜론으로 클래스 정의를 시작\n",
    "- 클래스 이름에 소괄호를 사용하여 상속할 부모 클래스들을 함수의 인자들처럼 나열하는 방식으로 명시 가능\n",
    "```python\n",
    "    class 클래스이름(부모클래스1, ..., 부모클래스n):\n",
    "        클래스본문\n",
    "```\n",
    "- 부모 클래스가 없으면 괄호를 생략 가능"
   ]
  },
  {
   "cell_type": "code",
   "execution_count": null,
   "id": "cb501f9b",
   "metadata": {},
   "outputs": [],
   "source": []
  },
  {
   "cell_type": "markdown",
   "id": "5400c39c",
   "metadata": {},
   "source": [
    "> Employee 클래스와 그의 특성을 가진 객체(인스턴스) 생성"
   ]
  },
  {
   "cell_type": "code",
   "execution_count": null,
   "id": "78fd49ea",
   "metadata": {},
   "outputs": [],
   "source": []
  },
  {
   "cell_type": "code",
   "execution_count": null,
   "id": "25e1aa2b",
   "metadata": {},
   "outputs": [],
   "source": []
  },
  {
   "cell_type": "markdown",
   "id": "38858fcd",
   "metadata": {},
   "source": [
    "> 개인정보를 저장하는 간단한 사용자 정의 클래스"
   ]
  },
  {
   "cell_type": "code",
   "execution_count": null,
   "id": "b231de34",
   "metadata": {},
   "outputs": [],
   "source": [
    "import datetime\n",
    "\n",
    "class Person:\n",
    "\n",
    "    def __init__(self, name, surname, birthdate, address, phone, email):\n",
    "        self.name = name\n",
    "        self.surname = surname\n",
    "        self.birthdate = birthdate\n",
    "\n",
    "        self.address = address\n",
    "        self.phone = phone\n",
    "        self.email = email\n",
    "\n",
    "    def age(self): # 나이 계산 함수\n",
    "        today = datetime.date.today()\n",
    "        age = today.year - self.birthdate.year\n",
    "\n",
    "        if today < datetime.date(today.year, self.birthdate.month, self.birthdate.day):\n",
    "            age -= 1\n",
    "\n",
    "        return age"
   ]
  },
  {
   "cell_type": "markdown",
   "id": "21220013",
   "metadata": {},
   "source": [
    "> 매직 메소드와 사용자 정의 메소드\n",
    "\n",
    "- `Person` 클래스 내부에는 `__init__`와 `age` 두 함수가 정의\n",
    "- `__init__` 함수는 특별한 메소드이며, 양끝이 밑줄 두 개로 감싸인 메소드는 매직 메소드(magic method)\n",
    "- `age` 함수는 사용자 정의 메소드(user-defined method)"
   ]
  },
  {
   "cell_type": "markdown",
   "id": "a9daf83c",
   "metadata": {},
   "source": [
    "> `__init__()` 초기 설정 메소드\n",
    "- 함수를 호출하듯이 클래스 객체를 호출하면 해당 클래스의 새 인스턴스가 생성 \n",
    "- Jane Doe라는 사람의 개인 정보를 담은 객체를 생성하여 `jDoe` 변수에 할당"
   ]
  },
  {
   "cell_type": "code",
   "execution_count": null,
   "id": "84df5eef",
   "metadata": {},
   "outputs": [],
   "source": [
    "jDoe = Person(\n",
    "    \"Jane\",\n",
    "    \"Doe\",\n",
    "    datetime.date(1992, 3, 12),\n",
    "    \"No. 12 Short Street, Greenville\",\n",
    "    \"555 456 0987\",\n",
    "    \"jane.doe@example.com\"\n",
    "    )"
   ]
  },
  {
   "cell_type": "markdown",
   "id": "ee056fb3",
   "metadata": {},
   "source": [
    "- `클래스이름(인자1, ..., 인자n)` 형식을 이용하여 클래스를 호출하면 해당 클래스의 인스턴스가 생성된 후 바로 해당 클래스의 `__init__` 함수가 지정된 인자들과 함께 호출\n",
    "- 클래스의 객체를 선언할 때 사용되는 인자는 `__init__` 함수 선언에서 사용된 매개변수에 해당하는 인자이어야 함\n",
    "\n",
    "- `__init__` 함수는 생성된 객체의 속성을 초기 설정하는 일을 수행\n",
    "- 이런 의미에서 **초기 설정 메소드** 또는 **초기 설정자** 라고 부를 수 있음\n",
    "\n",
    "- 예를 들어, `jDoe` 객체가 생성되자 마자 `__init__` 함수가 아래와 같이 호출\n",
    "\n",
    "```python\n",
    "    __init__(\n",
    "        \"Jane\",\n",
    "        \"Doe\",\n",
    "        datetime.date(1992, 3, 12), # 년, 월, 일\n",
    "        \"No. 12 Short Street, Greenville\",\n",
    "        \"555 456 0987\",\n",
    "        \"jane.doe@example.com\"\n",
    "        )\n",
    "```\n",
    "\n",
    "- 즉, Jane Doe의 개인정보를 `jDoe` 객체내부에 해당 속성에 저장"
   ]
  },
  {
   "cell_type": "markdown",
   "id": "f545c068",
   "metadata": {},
   "source": [
    "> `self` 매개변수\n",
    "- 클래스 내에서 메소드를 생성할 때 인자의 첫 번째 꼭 들어가야 함\n",
    "- 해당 클래스를 통해 생성된 객체 그 자신을 가리키는 것\n",
    "- 메소드의 첫번째 인수로 전달되는 '인스턴스 자신'의 값은 Python시스템에 의해 자동으로 넘어감\n",
    "- 그러므로 메소드를 호출할 때는 두번째 인수부터 작성class에 클래스이름 지정\n",
    "- `__init__`와 `age` 메소드 모두 첫째 매개변수로 `self`를 사용함, 하지만 `self`에 해당하는 인자를 직접 요구하지는 않음\n",
    "\n",
    "\n",
    "  \n",
    "- 예를 들어, `jDoe` 객체를 생성할 때 자동으로 호출되는 `__init__` 메소드는 앞서 보았듯이 `self`를 제외한 인자들을 이용하여 호출\n",
    "- 이유는, `__init__` 함수가 호출될 때 이미 객체가 생성되어 있으며, 그 객체가 자동으로 첫째 인자로 사용되기 때문\n",
    "- `age` 메소드는 따라서 호출 될 때 아무런 인자도 사용하지 않음\n",
    "- `self`에 대한 인자로 역시 이미 생성된 객체가 자동으로 입력되기 때문\n",
    "- 예를 들어, `__init__` 함수가 실제로 호출되는 과정은\n",
    "\n",
    "```python\n",
    "    __init__(\n",
    "        jDoe\n",
    "        \"Jane\",\n",
    "        \"Doe\",\n",
    "        datetime.date(1992, 3, 12), # 년, 월, 일\n",
    "        \"No. 12 Short Street, Greenville\",\n",
    "        \"555 456 0987\",\n",
    "        \"jane.doe@example.com\"\n",
    "        )\n",
    "```"
   ]
  },
  {
   "cell_type": "markdown",
   "id": "8314d7f0",
   "metadata": {},
   "source": [
    "> 속성 변수 선언\n",
    "- `__init__` 함수의 매개변수 이름과 함수 본문에서 선언되는 속성 변수 이름이 동일할 필요는 없지만 역시 관례적으로 사용\n",
    "- 다만, 속성 변수는 항상 다음과 같이 `self`와 점(`.`) 연산자로 구분되는 형식으로 사용\n",
    "\n",
    "```python\n",
    "    self.속성 변수\n",
    "```\n",
    "\n",
    "- 이 방식은 `__init__` 메소드에서 뿐만 아니라 모든 메소드 내부에서 선언 또는 사용되는 속성 변수에 대해서 적용"
   ]
  },
  {
   "cell_type": "markdown",
   "id": "070102a7",
   "metadata": {},
   "source": [
    "## 4. 객체 활용"
   ]
  },
  {
   "cell_type": "markdown",
   "id": "eb2478c6",
   "metadata": {},
   "source": [
    "- `birthdate` 매개변수에 의해 전달되는 값은 `datetime` 모듈에서 정의된 `date` 클래스의 인스턴스임"
   ]
  },
  {
   "cell_type": "markdown",
   "id": "649395af",
   "metadata": {},
   "source": [
    "> 속성과 메소드 사용\n",
    "- 생성된 객체는 해당 객체의 속성과 메소드를 통해 활용\n",
    "\n",
    "```python\n",
    "    객체이름.속성 변수\n",
    "```\n",
    "\n",
    "또는\n",
    "\n",
    "```python\n",
    "    객체이름.메소드(인자1, ..., 인자k)\n",
    "```\n",
    "\n",
    "- `jDoe`의 이름, 이메일 주소에 해당하는 속성을 확인하려면"
   ]
  },
  {
   "cell_type": "code",
   "execution_count": null,
   "id": "f800181d",
   "metadata": {},
   "outputs": [],
   "source": [
    "print(jDoe.name)\n",
    "print(jDoe.email)"
   ]
  },
  {
   "cell_type": "markdown",
   "id": "108de3b1",
   "metadata": {},
   "source": [
    "- 나이를 확인하려면 `age` 메소드를 아래와 같이 호출"
   ]
  },
  {
   "cell_type": "code",
   "execution_count": null,
   "id": "219ea056",
   "metadata": {},
   "outputs": [],
   "source": []
  },
  {
   "cell_type": "markdown",
   "id": "d82ac089",
   "metadata": {},
   "source": [
    "## 5. 인스턴스 속성"
   ]
  },
  {
   "cell_type": "markdown",
   "id": "17047fd7",
   "metadata": {},
   "source": [
    "- 클래스의 속성은 인스턴스 속성과 클래스 속성 두 종류로 구분 \n",
    "\n",
    "- `self.name` 등 메소드 내부에서 선언되는 변수를 인스턴스 속성 변수 또는 인스턴스 속성이라 함\n",
    "- 예를 들어, 아래 `age` 메소드를 아래와 같이 수정하면 `age` 메소드가 호출될 때 `_age`라는 인스턴스 속성이 선언됨"
   ]
  },
  {
   "cell_type": "code",
   "execution_count": null,
   "id": "497d20eb",
   "metadata": {},
   "outputs": [],
   "source": [
    "import datetime\n",
    "\n",
    "class Person:\n",
    "\n",
    "    def __init__(self, name, surname, birthdate, address, telephone, email):\n",
    "        self.name = name\n",
    "        self.surname = surname\n",
    "        self.birthdate = birthdate\n",
    "\n",
    "        self.address = address\n",
    "        self.telephone = telephone\n",
    "        self.email = email\n",
    "\n",
    "    def age(self):\n",
    "        if hasattr(self, \"_age\"):\n",
    "            return self._age\n",
    "\n",
    "        today = datetime.date.today()\n",
    "        age = today.year - self.birthdate.year\n",
    "\n",
    "        if today < datetime.date(today.year, self.birthdate.month, self.birthdate.day):\n",
    "            age -= 1\n",
    "\n",
    "        self._age = age\n",
    "        return age\n",
    "    \n",
    "jDoe = Person(\n",
    "    \"Jane\",\n",
    "    \"Doe\",\n",
    "    datetime.date(1992, 3, 12),\n",
    "    \"No. 12 Short Street, Greenville\",\n",
    "    \"555 456 0987\",\n",
    "    \"jane.doe@example.com\"\n",
    "    )    \n",
    "\n",
    "dScotty = Person(\n",
    "    \"Dana\",\n",
    "    \"Scotty\",\n",
    "    datetime.date(1970, 5, 22),\n",
    "    \"No. 2 Long Street, Bluecity\",\n",
    "    \"444 654 0135\",\n",
    "    \"dana.scotty@example.com\"\n",
    "    )    "
   ]
  },
  {
   "cell_type": "code",
   "execution_count": null,
   "id": "14e4663a",
   "metadata": {},
   "outputs": [],
   "source": []
  },
  {
   "cell_type": "markdown",
   "id": "19ef7d30",
   "metadata": {},
   "source": [
    "> 인스턴스 속성 추가\n",
    "- 이미 생성된 객체에서 독립적으로 새로운 속성과 새로운 메소드를 추가할 수 있음\n",
    "\n",
    "- 예를 들어, `Person` 클래스에는 애완동물 관련 속성을 저장하는 `pets` 인스턴스 변수가 없음. 따라서 `jDoe` 역시 애완동물 속성을 갖지 못함"
   ]
  },
  {
   "cell_type": "code",
   "execution_count": null,
   "id": "ff5974a1",
   "metadata": {},
   "outputs": [],
   "source": []
  },
  {
   "cell_type": "markdown",
   "id": "ee472c39",
   "metadata": {},
   "source": [
    "- 하지만 `jDoe` 스스로 애완동물 속성을 추가 가능"
   ]
  },
  {
   "cell_type": "code",
   "execution_count": null,
   "id": "50cafb75",
   "metadata": {},
   "outputs": [],
   "source": []
  },
  {
   "cell_type": "code",
   "execution_count": null,
   "id": "2ec06d01",
   "metadata": {},
   "outputs": [],
   "source": []
  },
  {
   "cell_type": "markdown",
   "id": "72cc972a",
   "metadata": {},
   "source": [
    "- 애완동물 속성을 jDoe만 갖음\n",
    "- 예를 들어, `Person` 클래스의 다른 인스턴스는 여전히 애완동물 속성을 갖지 않음"
   ]
  },
  {
   "cell_type": "code",
   "execution_count": null,
   "id": "87a94ffb",
   "metadata": {},
   "outputs": [],
   "source": []
  },
  {
   "cell_type": "markdown",
   "id": "3a82df1b",
   "metadata": {},
   "source": [
    "> 인스턴스 속성 관련 3개의 내장 함수 지원 :  `getattr`, `setattr`, `hasattr`"
   ]
  },
  {
   "cell_type": "markdown",
   "id": "b1870e3c",
   "metadata": {},
   "source": [
    "-  `getattr` 함수 : 특정 객체의 특정 속성값을 확인해줄 때 사용하는 함수, `jDoe`의 `pets` 속성값을 다음과 같이 확인"
   ]
  },
  {
   "cell_type": "code",
   "execution_count": null,
   "id": "19f7b02f",
   "metadata": {},
   "outputs": [],
   "source": []
  },
  {
   "cell_type": "markdown",
   "id": "64375c9f",
   "metadata": {},
   "source": [
    "-  `setattr` 함수 : 객체의 속성을 지정할 때 사용"
   ]
  },
  {
   "cell_type": "code",
   "execution_count": null,
   "id": "7fbc11f9",
   "metadata": {},
   "outputs": [],
   "source": []
  },
  {
   "cell_type": "code",
   "execution_count": null,
   "id": "7167e43f",
   "metadata": {},
   "outputs": [],
   "source": []
  },
  {
   "cell_type": "code",
   "execution_count": null,
   "id": "14abe206",
   "metadata": {},
   "outputs": [],
   "source": []
  },
  {
   "cell_type": "markdown",
   "id": "99978e44",
   "metadata": {},
   "source": [
    "-  `hasattr` 함수 : 특정 객체가 특정 속성을 가지고 있는지 여부를 판단"
   ]
  },
  {
   "cell_type": "code",
   "execution_count": null,
   "id": "6cc34fc8",
   "metadata": {},
   "outputs": [],
   "source": []
  },
  {
   "cell_type": "code",
   "execution_count": null,
   "id": "d45a8f4e",
   "metadata": {},
   "outputs": [],
   "source": []
  },
  {
   "cell_type": "markdown",
   "id": "5070626e",
   "metadata": {},
   "source": [
    "## 6. 클래스 속성"
   ]
  },
  {
   "cell_type": "markdown",
   "id": "ec0086df",
   "metadata": {},
   "source": [
    "- `__init__` 메소드에 의해 `Person` 클래스의 인스턴스의 속성을 초기 설정할 때 선언되는 속성 변수는 생성된 인스턴스 고유의 속성을 다룸\n",
    "- 반면에 클래스 속성은 기본적으로 특정 클래스와 밀접하게 관련된 상수의 역할을 수행하는 값을 정의하는 데에 사용되며, 해당 클래스의 모든 인스턴스에서 공유됨 "
   ]
  },
  {
   "cell_type": "markdown",
   "id": "c7037959",
   "metadata": {},
   "source": [
    "> 클래스 속성 활용법 1\n",
    "- 클래스 속성은 메소드 밖에서 선언되며, `self`를 사용하지 않고 일반적인 변수 선언 방식을 사용\n",
    "- 예를 들어, `Person` 클래스에 호칭(title)으로 사용될 항목들을 `TITLES` 라는 클래스 변수에 선언"
   ]
  },
  {
   "cell_type": "code",
   "execution_count": null,
   "id": "67d4416b",
   "metadata": {},
   "outputs": [],
   "source": [
    "class Person:\n",
    "\n",
    "    TITLES = ('Dr', 'Mr', 'Mrs', 'Ms')\n",
    "\n",
    "    def __init__(self, title, name, surname):\n",
    "        if title not in self.TITLES: #메소드 내부에서 클래스 변수 사용\n",
    "            raise ValueError(\"%s is not a valid title.\" % title)\n",
    "\n",
    "        self.title = title\n",
    "        self.name = name\n",
    "        self.surname = surname"
   ]
  },
  {
   "cell_type": "markdown",
   "id": "6c061b84",
   "metadata": {},
   "source": [
    "- 메소드 내부에서 클래스 속성을 사용하려면 인스턴스 속성의 경우처럼 `self`와 함께 사용\n",
    "- 여기서 `self`는 기본적으로 클래스 자신, 즉 위의 경우에는 `Person` 클래스를 가리킴\n",
    "- 하지만 해당 클래스의 모든 인스턴스도 클래스 속성을 공유함\n",
    "- 예를 들어, 다음 `jDoe` 객체 역시 `TITLES` 속성을 공유함"
   ]
  },
  {
   "cell_type": "code",
   "execution_count": null,
   "id": "85806840",
   "metadata": {},
   "outputs": [],
   "source": []
  },
  {
   "cell_type": "code",
   "execution_count": null,
   "id": "dff33f6f",
   "metadata": {},
   "outputs": [],
   "source": []
  },
  {
   "cell_type": "markdown",
   "id": "c6122b4f",
   "metadata": {},
   "source": [
    "- 클래스 속성은 인스턴스 없이도 확인이 가능(클래스 속성이라 불리는 이유가 바로 여기에 있음)"
   ]
  },
  {
   "cell_type": "code",
   "execution_count": null,
   "id": "223de09b",
   "metadata": {},
   "outputs": [],
   "source": []
  },
  {
   "cell_type": "markdown",
   "id": "725ed15f",
   "metadata": {},
   "source": [
    "> 클래스 속성 활용법 2"
   ]
  },
  {
   "cell_type": "markdown",
   "id": "9ce684f5",
   "metadata": {},
   "source": [
    "- 클래스 속성을 사용하여 기본 속성 값을 제공 할 수도 있음"
   ]
  },
  {
   "cell_type": "code",
   "execution_count": null,
   "id": "38d57317",
   "metadata": {},
   "outputs": [],
   "source": []
  },
  {
   "cell_type": "markdown",
   "id": "227a129f",
   "metadata": {},
   "source": [
    "- 클래스 속성을 업데이트할 때 주의해야할 사항으로, 클래스 속성 변수와 동일한 이름의 속성 변수를 인스턴스에서 새로 설정하면 클래스 속성이 인스턴스 속성으로 전환됨\n",
    "- 그리고 동일한 이름의 속성 변수가 존재할 때 객체는 인스턴스 속성을 우선적으로 사용\n",
    "\n",
    "- 위 코드에서 `married` 클래스 변수는 결혼여부를 저장하여 기본값으로 `False`, 즉, 미혼으로 지정해 놓았음\n",
    "- 그런데 아래와 같이 인스턴스를 생성할 때마다 각각 독립적으로 결혼여부를 지정할 수 있음\n",
    "\n",
    "**주의:** `__init__` 메소드가 선언되어 있지 않음. 즉, 인스턴스를 생성할 때 초기 설정을 진행하지 않음"
   ]
  },
  {
   "cell_type": "code",
   "execution_count": null,
   "id": "3785ff4c",
   "metadata": {},
   "outputs": [],
   "source": []
  },
  {
   "cell_type": "markdown",
   "id": "0473dc31",
   "metadata": {},
   "source": [
    "- 클래스 변수로서는 속성값이 변하지 않았음"
   ]
  },
  {
   "cell_type": "code",
   "execution_count": null,
   "id": "e656c017",
   "metadata": {},
   "outputs": [],
   "source": []
  },
  {
   "cell_type": "markdown",
   "id": "39319935",
   "metadata": {},
   "source": [
    "- 따라서 새로운 인스턴스를 생성하도 기본값은 미혼"
   ]
  },
  {
   "cell_type": "code",
   "execution_count": null,
   "id": "9912dce4",
   "metadata": {},
   "outputs": [],
   "source": []
  },
  {
   "cell_type": "markdown",
   "id": "b0ae4a37",
   "metadata": {},
   "source": [
    "## 7. 클래스 상속(inheritance)"
   ]
  },
  {
   "cell_type": "markdown",
   "id": "c983774d",
   "metadata": {},
   "source": [
    "> 상속(inheritance)\n",
    "- 클래스에서 상속 : 물려주는 클래스(Parent Class, Super class)의 내용(속성과 메소드)을 물려받는 클래스(Child class, sub class)가 가지게 되는 것\n",
    "- 예를 들어, 국가라는 클래스가 있고, 그것을 상속받은 한국, 일본, 중국, 미국 등의 클래스를 만들 수 있으며, 국가라는 클래스의 기본적인 속성으로 인구라는 속성을 만들었다면, 상속 받은 한국, 일본, 중국 등등의 클래스에서 부모 클래스의 속성과 메소드를 사용할 수 있음"
   ]
  },
  {
   "cell_type": "markdown",
   "id": "c50a3b95",
   "metadata": {},
   "source": [
    "> 사용 방법\n",
    "- 자식클래스를 선언할때 소괄호로 부모클래스를 포함\n",
    "- 자식클래스에서는 부모클래스의 속성과 메소드는 기재하지 않아도 포함 됨\n",
    "\n",
    "```python\n",
    "    class 부모클래스:\n",
    "        ...내용...\n",
    "\n",
    "    class 자식클래스(부모클래스):\n",
    "        ...내용...\n",
    "```"
   ]
  },
  {
   "cell_type": "code",
   "execution_count": null,
   "id": "15b355ab",
   "metadata": {},
   "outputs": [],
   "source": [
    "class Country:\n",
    "    \"\"\"Super Class\"\"\"\n",
    "\n",
    "    name = '국가명'\n",
    "    population = '인구'\n",
    "    capital = '수도'\n",
    "\n",
    "    def show(self):\n",
    "        print('국가 클래스의 메소드입니다.')\n",
    "\n",
    "\n",
    "class Korea(Country):\n",
    "    \"\"\"Sub Class\"\"\"\n",
    "\n",
    "    def __init__(self, name):\n",
    "        self.name = name\n",
    "\n",
    "    def show_name(self):\n",
    "        print('국가 이름은 : ', self.name)"
   ]
  },
  {
   "cell_type": "markdown",
   "id": "006c7b49",
   "metadata": {},
   "source": [
    "- 상속받은 서브 클래스에서는 상속해준 슈퍼 클래스의 속성과 메소드를 모두 사용"
   ]
  },
  {
   "cell_type": "code",
   "execution_count": null,
   "id": "34d9c1f7",
   "metadata": {},
   "outputs": [],
   "source": []
  },
  {
   "cell_type": "code",
   "execution_count": null,
   "id": "92bf5917",
   "metadata": {},
   "outputs": [],
   "source": []
  },
  {
   "cell_type": "code",
   "execution_count": null,
   "id": "7c2e0de0",
   "metadata": {},
   "outputs": [],
   "source": []
  },
  {
   "cell_type": "code",
   "execution_count": null,
   "id": "140c88f5",
   "metadata": {},
   "outputs": [],
   "source": []
  }
 ],
 "metadata": {
  "kernelspec": {
   "display_name": "Python 3 (ipykernel)",
   "language": "python",
   "name": "python3"
  },
  "language_info": {
   "codemirror_mode": {
    "name": "ipython",
    "version": 3
   },
   "file_extension": ".py",
   "mimetype": "text/x-python",
   "name": "python",
   "nbconvert_exporter": "python",
   "pygments_lexer": "ipython3",
   "version": "3.9.10"
  }
 },
 "nbformat": 4,
 "nbformat_minor": 5
}
