{
 "cells": [
  {
   "cell_type": "markdown",
   "id": "c8753e17",
   "metadata": {},
   "source": [
    "M4.클래스와 객체 Classes and Objects\n",
    "=="
   ]
  },
  {
   "cell_type": "markdown",
   "id": "1f8887c2",
   "metadata": {},
   "source": [
    "## 1. 객체지향 프로그래밍 언어의 핵심 개념"
   ]
  },
  {
   "cell_type": "markdown",
   "id": "27cb1589",
   "metadata": {},
   "source": [
    "> 추상화(abstraction) : 객체의 공통적인 속성과 기능을 추출하여 정의하는 것(서울의 지하철 노선도는 서울의 지리를 추상화시켜서 보여주는 것)"
   ]
  },
  {
   "cell_type": "markdown",
   "id": "90b8e308",
   "metadata": {},
   "source": [
    "> 상속(Inheritance) : 기존의 클래스를 재활용하여 새로운 클래스를 작성하는 것\n",
    "  - 상속은 클래스 간 공유될 수 있는 속성과 기능들을 상위 클래스로 추상화 시켜 해당 상위 클래스로부터 확장된 여러 개의 하위 클래스들이 모두 상위 클래스의 속성과 기능들을 간편하게 사용"
   ]
  },
  {
   "cell_type": "markdown",
   "id": "21843466",
   "metadata": {},
   "source": [
    "> 캡슐화(encapsulation) : 클래스 안에 서로 연관있는 속성과 기능들을 하나의 캡슐(capsule)로 만들어 데이터를 외부로부터 보호하는 것\n",
    " - 캡슐화를 통해 내부에서 일어나는 작업 내용을 최소한만 보여주고, 외부에서 의도치 않게 변경하거나 손상하는 것을 방지 "
   ]
  },
  {
   "cell_type": "markdown",
   "id": "d397726c",
   "metadata": {},
   "source": [
    "> 다형성(polymorphism) : 어떤 객체의 속성이나 기능이 상황에 따라 여러 가지 형태를 가질 수 있는 성질\n",
    " - 서로 다른 클래스에 속해 있는 객체들이 같은 이름의 메소드를 사용하더라도 각기 다른 방식으로 행동할 수 있도록 해주는 것\n",
    " - 어떤 객체의 속성이나 기능이 그 맥락에 따라 다른 역할을 수행할수 있는 객체 지향의 특성을 의미\n",
    " - 예) 도형(Shape.draw())의 하위 클래스인 원(Circle.draw()), 삼각형(Triangle.draw()), 사각형(Rectangle.draw()) 등 "
   ]
  },
  {
   "cell_type": "markdown",
   "id": "acbd66ff",
   "metadata": {},
   "source": [
    "## 2. 클래스와 객체의 관계"
   ]
  },
  {
   "cell_type": "markdown",
   "id": "65f1a7e2",
   "metadata": {},
   "source": [
    "> 클래스(class) : 같은 종류의 집단에 속하는 객체(object)들의 속성(attribute)과 행동(behavior)을 정의"
   ]
  },
  {
   "cell_type": "markdown",
   "id": "823f0cdc",
   "metadata": {},
   "source": [
    "> 객체(object) : 클래스의 인스턴스(instance)\n",
    " - 객체는 자신 고유의 속성(attribute) 값을 가지고 있으며 클래스에서 정의한 행동(behavior)을 실행\n",
    " - 책상, 의자, 시계, 책, 논리, 사상, 개념, 공식 등 우리가 주변에서 볼 수 있는 모든 실재(實在)하는 대상\n",
    " - 하나의 개별적인 실체로 식별 가능한 물리적인 또는 개념적인 사물은 어떤 것이든 객체가 될 수 있음"
   ]
  },
  {
   "cell_type": "markdown",
   "id": "a43ec14d",
   "metadata": {},
   "source": [
    "> 속성과 메소드\n",
    "\n",
    "- 속성: 속성을 저장하는 변수(속성 변수라고도 함)\n",
    "- 메소드 : 속성을 다루는 함수"
   ]
  },
  {
   "cell_type": "markdown",
   "id": "58ba21ec",
   "metadata": {},
   "source": [
    "## 3. 클래스 정의와 사용법"
   ]
  },
  {
   "cell_type": "markdown",
   "id": "e97953cc",
   "metadata": {},
   "source": [
    "> 클래스와 객체 만들기\n",
    "- `class` 지정자와 클래스 이름 및 콜론으로 클래스 정의를 시작\n",
    "- 클래스 이름에 소괄호를 사용하여 상속할 부모 클래스들을 함수의 인자들처럼 나열하는 방식으로 명시 가능\n",
    "```python\n",
    "    class 클래스이름(부모클래스1, ..., 부모클래스n):\n",
    "        클래스본문\n",
    "```\n",
    "- 부모 클래스가 없으면 괄호를 생략 가능"
   ]
  },
  {
   "cell_type": "code",
   "execution_count": null,
   "id": "cb501f9b",
   "metadata": {},
   "outputs": [],
   "source": []
  },
  {
   "cell_type": "markdown",
   "id": "5400c39c",
   "metadata": {},
   "source": [
    "> Employee 클래스와 그의 특성을 가진 객체(인스턴스) 생성"
   ]
  },
  {
   "cell_type": "code",
   "execution_count": null,
   "id": "78fd49ea",
   "metadata": {},
   "outputs": [],
   "source": []
  },
  {
   "cell_type": "code",
   "execution_count": null,
   "id": "25e1aa2b",
   "metadata": {},
   "outputs": [],
   "source": []
  },
  {
   "cell_type": "markdown",
   "id": "38858fcd",
   "metadata": {},
   "source": [
    "> 개인정보를 저장하는 간단한 사용자 정의 클래스"
   ]
  },
  {
   "cell_type": "code",
   "execution_count": null,
   "id": "b231de34",
   "metadata": {},
   "outputs": [],
   "source": [
    "import datetime\n",
    "\n",
    "class Person:\n",
    "\n",
    "    def __init__(self, name, surname, birthdate, address, phone, email):\n",
    "        self.name = name\n",
    "        self.surname = surname\n",
    "        self.birthdate = birthdate\n",
    "\n",
    "        self.address = address\n",
    "        self.phone = phone\n",
    "        self.email = email\n",
    "\n",
    "    def age(self): # 나이 계산 함수\n",
    "        today = datetime.date.today()\n",
    "        age = today.year - self.birthdate.year\n",
    "\n",
    "        if today < datetime.date(today.year, self.birthdate.month, self.birthdate.day):\n",
    "            age -= 1\n",
    "\n",
    "        return age"
   ]
  },
  {
   "cell_type": "markdown",
   "id": "21220013",
   "metadata": {},
   "source": [
    "> 매직 메소드와 사용자 정의 메소드\n",
    "\n",
    "- `Person` 클래스 내부에는 `__init__`와 `age` 두 함수가 정의\n",
    "- `__init__` 함수는 특별한 메소드이며, 양끝이 밑줄 두 개로 감싸인 메소드는 매직 메소드(magic method)\n",
    "- `age` 함수는 사용자 정의 메소드(user-defined method)"
   ]
  },
  {
   "cell_type": "markdown",
   "id": "a9daf83c",
   "metadata": {},
   "source": [
    "> `__init__()` 초기 설정 메소드\n",
    "- 함수를 호출하듯이 클래스 객체를 호출하면 해당 클래스의 새 인스턴스가 생성 \n",
    "- Jane Doe라는 사람의 개인 정보를 담은 객체를 생성하여 `jDoe` 변수에 할당"
   ]
  },
  {
   "cell_type": "code",
   "execution_count": null,
   "id": "84df5eef",
   "metadata": {},
   "outputs": [],
   "source": [
    "jDoe = Person(\n",
    "    \"Jane\",\n",
    "    \"Doe\",\n",
    "    datetime.date(1992, 3, 12),\n",
    "    \"No. 12 Short Street, Greenville\",\n",
    "    \"555 456 0987\",\n",
    "    \"jane.doe@example.com\"\n",
    "    )"
   ]
  },
  {
   "cell_type": "markdown",
   "id": "ee056fb3",
   "metadata": {},
   "source": [
    "- `클래스이름(인자1, ..., 인자n)` 형식을 이용하여 클래스를 호출하면 해당 클래스의 인스턴스가 생성된 후 바로 해당 클래스의 `__init__` 함수가 지정된 인자들과 함께 호출\n",
    "- 클래스의 객체를 선언할 때 사용되는 인자는 `__init__` 함수 선언에서 사용된 매개변수에 해당하는 인자이어야 함\n",
    "\n",
    "- `__init__` 함수는 생성된 객체의 속성을 초기 설정하는 일을 수행\n",
    "- 이런 의미에서 **초기 설정 메소드** 또는 **초기 설정자** 라고 부를 수 있음\n",
    "\n",
    "- 예를 들어, `jDoe` 객체가 생성되자 마자 `__init__` 함수가 아래와 같이 호출\n",
    "\n",
    "```python\n",
    "    __init__(\n",
    "        \"Jane\",\n",
    "        \"Doe\",\n",
    "        datetime.date(1992, 3, 12), # 년, 월, 일\n",
    "        \"No. 12 Short Street, Greenville\",\n",
    "        \"555 456 0987\",\n",
    "        \"jane.doe@example.com\"\n",
    "        )\n",
    "```\n",
    "\n",
    "- 즉, Jane Doe의 개인정보를 `jDoe` 객체내부에 해당 속성에 저장"
   ]
  },
  {
   "cell_type": "markdown",
   "id": "f545c068",
   "metadata": {},
   "source": [
    "> `self` 매개변수\n",
    "- 클래스 내에서 메소드를 생성할 때 인자의 첫 번째 꼭 들어가야 함\n",
    "- 해당 클래스를 통해 생성된 객체 그 자신을 가리키는 것\n",
    "- 메소드의 첫번째 인수로 전달되는 '인스턴스 자신'의 값은 Python시스템에 의해 자동으로 넘어감\n",
    "- 그러므로 메소드를 호출할 때는 두번째 인수부터 작성class에 클래스이름 지정\n",
    "- `__init__`와 `age` 메소드 모두 첫째 매개변수로 `self`를 사용함, 하지만 `self`에 해당하는 인자를 직접 요구하지는 않음\n",
    "\n",
    "\n",
    "  \n",
    "- 예를 들어, `jDoe` 객체를 생성할 때 자동으로 호출되는 `__init__` 메소드는 앞서 보았듯이 `self`를 제외한 인자들을 이용하여 호출\n",
    "- 이유는, `__init__` 함수가 호출될 때 이미 객체가 생성되어 있으며, 그 객체가 자동으로 첫째 인자로 사용되기 때문\n",
    "- `age` 메소드는 따라서 호출 될 때 아무런 인자도 사용하지 않음\n",
    "- `self`에 대한 인자로 역시 이미 생성된 객체가 자동으로 입력되기 때문\n",
    "- 예를 들어, `__init__` 함수가 실제로 호출되는 과정은\n",
    "\n",
    "```python\n",
    "    __init__(\n",
    "        jDoe\n",
    "        \"Jane\",\n",
    "        \"Doe\",\n",
    "        datetime.date(1992, 3, 12), # 년, 월, 일\n",
    "        \"No. 12 Short Street, Greenville\",\n",
    "        \"555 456 0987\",\n",
    "        \"jane.doe@example.com\"\n",
    "        )\n",
    "```"
   ]
  },
  {
   "cell_type": "markdown",
   "id": "8314d7f0",
   "metadata": {},
   "source": [
    "> 속성 변수 선언\n",
    "- `__init__` 함수의 매개변수 이름과 함수 본문에서 선언되는 속성 변수 이름이 동일할 필요는 없지만 역시 관례적으로 사용\n",
    "- 다만, 속성 변수는 항상 다음과 같이 `self`와 점(`.`) 연산자로 구분되는 형식으로 사용\n",
    "\n",
    "```python\n",
    "    self.속성 변수\n",
    "```\n",
    "\n",
    "- 이 방식은 `__init__` 메소드에서 뿐만 아니라 모든 메소드 내부에서 선언 또는 사용되는 속성 변수에 대해서 적용"
   ]
  },
  {
   "cell_type": "markdown",
   "id": "070102a7",
   "metadata": {},
   "source": [
    "## 4. 객체 활용"
   ]
  },
  {
   "cell_type": "markdown",
   "id": "eb2478c6",
   "metadata": {},
   "source": [
    "- `birthdate` 매개변수에 의해 전달되는 값은 `datetime` 모듈에서 정의된 `date` 클래스의 인스턴스임"
   ]
  },
  {
   "cell_type": "markdown",
   "id": "649395af",
   "metadata": {},
   "source": [
    "> 속성과 메소드 사용\n",
    "- 생성된 객체는 해당 객체의 속성과 메소드를 통해 활용\n",
    "\n",
    "```python\n",
    "    객체이름.속성 변수\n",
    "```\n",
    "\n",
    "또는\n",
    "\n",
    "```python\n",
    "    객체이름.메소드(인자1, ..., 인자k)\n",
    "```\n",
    "\n",
    "- `jDoe`의 이름, 이메일 주소에 해당하는 속성을 확인하려면"
   ]
  },
  {
   "cell_type": "code",
   "execution_count": null,
   "id": "f800181d",
   "metadata": {},
   "outputs": [],
   "source": [
    "print(jDoe.name)\n",
    "print(jDoe.email)"
   ]
  },
  {
   "cell_type": "markdown",
   "id": "108de3b1",
   "metadata": {},
   "source": [
    "- 나이를 확인하려면 `age` 메소드를 아래와 같이 호출"
   ]
  },
  {
   "cell_type": "code",
   "execution_count": null,
   "id": "219ea056",
   "metadata": {},
   "outputs": [],
   "source": []
  },
  {
   "cell_type": "markdown",
   "id": "b0ae4a37",
   "metadata": {},
   "source": [
    "## 5. 클래스 상속(inheritance)"
   ]
  },
  {
   "cell_type": "markdown",
   "id": "c983774d",
   "metadata": {},
   "source": [
    "> 상속(inheritance)\n",
    "- 클래스에서 상속 : 물려주는 클래스(Parent Class, Super class)의 내용(속성과 메소드)을 물려받는 클래스(Child class, sub class)가 가지게 되는 것\n",
    "- 예를 들어, 국가라는 클래스가 있고, 그것을 상속받은 한국, 일본, 중국, 미국 등의 클래스를 만들 수 있으며, 국가라는 클래스의 기본적인 속성으로 인구라는 속성을 만들었다면, 상속 받은 한국, 일본, 중국 등등의 클래스에서 부모 클래스의 속성과 메소드를 사용할 수 있음"
   ]
  },
  {
   "cell_type": "markdown",
   "id": "c50a3b95",
   "metadata": {},
   "source": [
    "> 사용 방법\n",
    "- 자식클래스를 선언할때 소괄호로 부모클래스를 포함\n",
    "- 자식클래스에서는 부모클래스의 속성과 메소드는 기재하지 않아도 포함 됨\n",
    "\n",
    "```python\n",
    "    class 부모클래스:\n",
    "        ...내용...\n",
    "\n",
    "    class 자식클래스(부모클래스):\n",
    "        ...내용...\n",
    "```"
   ]
  },
  {
   "cell_type": "code",
   "execution_count": null,
   "id": "15b355ab",
   "metadata": {},
   "outputs": [],
   "source": [
    "class Country:\n",
    "    \"\"\"Super Class\"\"\"\n",
    "\n",
    "    name = '국가명'\n",
    "    population = '인구'\n",
    "    capital = '수도'\n",
    "\n",
    "    def show(self):\n",
    "        print('국가 클래스의 메소드입니다.')\n",
    "\n",
    "\n",
    "class Korea(Country):\n",
    "    \"\"\"Sub Class\"\"\"\n",
    "\n",
    "    def __init__(self, name):\n",
    "        self.name = name\n",
    "\n",
    "    def show_name(self):\n",
    "        print('국가 이름은 : ', self.name)"
   ]
  },
  {
   "cell_type": "markdown",
   "id": "006c7b49",
   "metadata": {},
   "source": [
    "- 상속받은 서브 클래스에서는 상속해준 슈퍼 클래스의 속성과 메소드를 모두 사용"
   ]
  },
  {
   "cell_type": "code",
   "execution_count": null,
   "id": "34d9c1f7",
   "metadata": {},
   "outputs": [],
   "source": []
  },
  {
   "cell_type": "code",
   "execution_count": null,
   "id": "92bf5917",
   "metadata": {},
   "outputs": [],
   "source": []
  },
  {
   "cell_type": "code",
   "execution_count": null,
   "id": "7c2e0de0",
   "metadata": {},
   "outputs": [],
   "source": []
  },
  {
   "cell_type": "code",
   "execution_count": null,
   "id": "140c88f5",
   "metadata": {},
   "outputs": [],
   "source": []
  }
 ],
 "metadata": {
  "kernelspec": {
   "display_name": "Python 3 (ipykernel)",
   "language": "python",
   "name": "python3"
  },
  "language_info": {
   "codemirror_mode": {
    "name": "ipython",
    "version": 3
   },
   "file_extension": ".py",
   "mimetype": "text/x-python",
   "name": "python",
   "nbconvert_exporter": "python",
   "pygments_lexer": "ipython3",
   "version": "3.9.10"
  }
 },
 "nbformat": 4,
 "nbformat_minor": 5
}
